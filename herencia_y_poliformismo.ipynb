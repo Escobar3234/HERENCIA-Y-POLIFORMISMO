{
  "cells": [
    {
      "cell_type": "code",
      "execution_count": null,
      "metadata": {
        "id": "Upb6eHGEuoCt",
        "outputId": "717a493b-830f-4938-d763-b917e3112222"
      },
      "outputs": [
        {
          "name": "stdout",
          "output_type": "stream",
          "text": [
            "profesor: \n",
            "\tNombre: Edna\n",
            "\tApellido: Rivas Ortiz\n",
            "\tEdad: 45\n",
            "\tAntiguedad: 30\n",
            "\tTutorias: [['lunes', '2-4 pm'], ['martes', '4-6 pm']]\n",
            "\tTelefono: 312450000\n"
          ]
        }
      ],
      "source": [
        "class Persona():\n",
        "  def __init__(self):\n",
        "    self.__Nombre=\"\"\n",
        "    self.__Apellido=\"\"\n",
        "    self.__Edad=\"\"\n",
        "\n",
        "  def GetNombre(self):\n",
        "    return self.__Nombre\n",
        "\n",
        "  def SetNombre(self, nombre):\n",
        "    self.__Nombre=nombre\n",
        "  \n",
        "  def GetApellido(self):\n",
        "    return self.__Apellido\n",
        "\n",
        "  def SetApellido(self, apellido):\n",
        "    self.__Apellido = apellido\n",
        "\n",
        "  def GetEdad(self):\n",
        "    return self.__Edad\n",
        "\n",
        "  def SetEdad(self, edad):\n",
        "    self.__Edad=edad\n",
        "\n",
        "class Profesor(Persona):\n",
        "  def __init__(self):\n",
        "    self.__Antiguedad=\"\"\n",
        "    self.__Tutorias=\"\"\n",
        "    self.__Telefono=\"\"\n",
        "\n",
        "  def GetAntiguedad(self):\n",
        "    return self.__Antiguedad\n",
        "\n",
        "  def SetAntiguedad(self, antiguedad):\n",
        "    self.__Antiguedad = antiguedad\n",
        "\n",
        "  def GetTutorias(self):\n",
        "    return self.__Tutorias\n",
        "\n",
        "  def SetTutorias(self, tutorias):\n",
        "    self.__Tutorias = tutorias\n",
        "\n",
        "  def GetTelefono(self):\n",
        "    return self.__Telefono\n",
        "\n",
        "  def SetTelefono(self, telefono):\n",
        "    self.__Telefono=telefono\n",
        "\n",
        "\n",
        "\n",
        "  def MostrarProfesor(self):\n",
        "    print(\"profesor: \")\n",
        "    print(\"\\tNombre:\",self.GetNombre())\n",
        "    print(\"\\tApellido:\",self.GetApellido())\n",
        "    print(\"\\tEdad:\",self.GetEdad())\n",
        "    print(\"\\tAntiguedad:\",self.__Antiguedad)\n",
        "    print(\"\\tTutorias:\",self.__Tutorias)\n",
        "    print(\"\\tTelefono:\",self.__Telefono)\n",
        "\n",
        "    \n",
        "\n",
        "profesor=Profesor()\n",
        "profesor.SetNombre(\"Edna\")\n",
        "profesor.SetApellido(\"Rivas Ortiz\")\n",
        "profesor.SetEdad(45)\n",
        "profesor.SetAntiguedad(30)\n",
        "profesor.SetTutorias([[\"lunes\",\"2-4 pm\"],[\"martes\",\"4-6 pm\"]])\n",
        "profesor.SetTelefono(\"312450000\")\n",
        "profesor.MostrarProfesor()"
      ]
    },
    {
      "cell_type": "code",
      "execution_count": null,
      "metadata": {
        "id": "Iu_OhhZhuoC2",
        "outputId": "6099ceb8-b2ea-4127-fcc5-a6447997e83c"
      },
      "outputs": [
        {
          "name": "stdout",
          "output_type": "stream",
          "text": [
            "investigador: \n",
            "\tNombre: JUAN LUIS\n",
            "\tApellido: DE LAS CASAS MONTAÑA\n",
            "\tEdad: 45\n",
            "\tEspecialidad: INVESTIGADOR FORENSE\n",
            "\tAtributos: ESPECIALISTA,INVESTIGADOR\n",
            "\tAños: 22\n"
          ]
        }
      ],
      "source": [
        "class Investigador(Persona):\n",
        "  def __init__(self):\n",
        "    self.__Especialidad=\"\"\n",
        "    self.__Atributos=\"\"\n",
        "    self.__Años=\"\"\n",
        "\n",
        "  def GetEspecialidad(self):\n",
        "    return self.__Especialidad\n",
        "\n",
        "  def SetEspecialidad(self, especialidad):\n",
        "    self.__Especialidad = especialidad\n",
        "\n",
        "  def GetAtributos(self):\n",
        "    return self.__Atributos\n",
        "\n",
        "  def SetAtributos(self, atributos):\n",
        "    self.__Atributos = atributos\n",
        "\n",
        "  def GetAños(self):\n",
        "    return self.__Años\n",
        "\n",
        "  def SetAños(self, años):\n",
        "    self.__Años=años\n",
        "\n",
        "\n",
        "\n",
        "  def MostrarInvestigador(self):\n",
        "    print(\"investigador: \")\n",
        "    print(\"\\tNombre:\",self.GetNombre())\n",
        "    print(\"\\tApellido:\",self.GetApellido())\n",
        "    print(\"\\tEdad:\",self.GetEdad())\n",
        "    print(\"\\tEspecialidad:\",self.__Especialidad)\n",
        "    print(\"\\tAtributos:\",self.__Atributos)\n",
        "    print(\"\\tAños:\",self.__Años)\n",
        "\n",
        "    \n",
        "\n",
        "investiga=Investigador()\n",
        "investiga.SetNombre(\"JUAN LUIS\")\n",
        "investiga.SetApellido(\"DE LAS CASAS MONTAÑA\")\n",
        "investiga.SetEdad(45)\n",
        "investiga.SetEspecialidad(\"INVESTIGADOR FORENSE\")\n",
        "investiga.SetAtributos(\"ESPECIALISTA,INVESTIGADOR\")\n",
        "investiga.SetAños(22)\n",
        "investiga.MostrarInvestigador()"
      ]
    },
    {
      "cell_type": "code",
      "execution_count": null,
      "metadata": {
        "id": "D0DanwQsuoC4",
        "outputId": "26dd74ed-a495-424f-eef8-4aba6cf5a448"
      },
      "outputs": [
        {
          "name": "stdout",
          "output_type": "stream",
          "text": [
            "\tUniversidad: FET\n",
            "\tDepartamento: Huila\n"
          ]
        }
      ],
      "source": [
        "class ProfesorUniversitario(Persona):\n",
        "  def __init__(self):\n",
        "    self.__Universidad=\"\"\n",
        "    self.__Departamento=\"\"\n",
        "\n",
        "  def GetUniversidad(self):\n",
        "    return self.__Universidad\n",
        "\n",
        "  def SetUniversidad(self, universidad):\n",
        "    self.__Universidad = universidad\n",
        "\n",
        "  def GetDepartamento(self):\n",
        "    return self.__Departamento\n",
        "\n",
        "  def SetDepartamento(self, departamento):\n",
        "    self.__Departamento = departamento\n",
        "\n",
        "\n",
        "  def MostrarProfesorUniversitario(self):\n",
        "    print(\"\\tUniversidad:\",self.__Universidad)\n",
        "    print(\"\\tDepartamento:\",self.__Departamento)\n",
        "\n",
        "\n",
        "profesor_universitario=ProfesorUniversitario()\n",
        "profesor_universitario.SetUniversidad(\"FET\")\n",
        "profesor_universitario.SetDepartamento(\"Huila\")\n",
        "profesor_universitario.MostrarProfesorUniversitario()"
      ]
    },
    {
      "cell_type": "code",
      "execution_count": null,
      "metadata": {
        "id": "_e8A1URVuoC7",
        "outputId": "f237ab9f-9cbd-42f5-d5b9-bd115a20988d"
      },
      "outputs": [
        {
          "name": "stdout",
          "output_type": "stream",
          "text": [
            "profesional: \n",
            "\tNombre: Edna\n",
            "\tApellido: Rivas Ortiz\n",
            "\tEdad: 45\n",
            "\tAntiguedad: 30\n",
            "\tTutorias: [['lunes', '2-4 pm'], ['martes', '4-6 pm']]\n",
            "\tTelefono: 312450000\n",
            "\tEspecialidad: INVESTIGADOR FORENSE\n",
            "\tAtributos: ESPECIALISTA,INVESTIGADOR\n",
            "\tAños: 22\n",
            "\tUniversidad: FET\n",
            "\tDepartamento: Huila\n"
          ]
        }
      ],
      "source": [
        "class Profesional(Persona):\n",
        "  def __init__(self):\n",
        "    self.__Antiguedad=\"\"\n",
        "    self.__Tutorias=\"\"\n",
        "    self.__Telefono=\"\"\n",
        "    self.__Especialidad=\"\"\n",
        "    self.__Atributos=\"\"\n",
        "    self.__Años=\"\"\n",
        "    self.__Universidad=\"\"\n",
        "    self.__Departamento=\"\"\n",
        "\n",
        "  def GetAntiguedad(self):\n",
        "    return self.__Antiguedad\n",
        "\n",
        "  def SetAntiguedad(self, antiguedad):\n",
        "    self.__Antiguedad = antiguedad\n",
        "\n",
        "  def GetTutorias(self):\n",
        "    return self.__Tutorias\n",
        "\n",
        "  def SetTutorias(self, tutorias):\n",
        "    self.__Tutorias = tutorias\n",
        "\n",
        "  def GetTelefono(self):\n",
        "    return self.__Telefono\n",
        "\n",
        "  def SetTelefono(self, telefono):\n",
        "    self.__Telefono=telefono\n",
        "\n",
        "  def GetEspecialidad(self):\n",
        "    return self.__Especialidad\n",
        "\n",
        "  def SetEspecialidad(self, especialidad):\n",
        "    self.__Especialidad = especialidad\n",
        "\n",
        "  def GetAtributos(self):\n",
        "    return self.__Atributos\n",
        "\n",
        "  def SetAtributos(self, atributos):\n",
        "    self.__Atributos = atributos\n",
        "\n",
        "  def GetAños(self):\n",
        "    return self.__Años\n",
        "\n",
        "  def SetAños(self, años):\n",
        "    self.__Años=años\n",
        "\n",
        "  def GetUniversidad(self):\n",
        "    return self.__Universidad\n",
        "\n",
        "  def SetUniversidad(self, universidad):\n",
        "    self.__Universidad = universidad\n",
        "\n",
        "  def GetDepartamento(self):\n",
        "    return self.__Departamento\n",
        "\n",
        "  def SetDepartamento(self, departamento):\n",
        "    self.__Departamento = departamento\n",
        "\n",
        "\n",
        "  def MostrarProfesional(self):\n",
        "    print(\"profesional: \")\n",
        "    print(\"\\tNombre:\",self.GetNombre())\n",
        "    print(\"\\tApellido:\",self.GetApellido())\n",
        "    print(\"\\tEdad:\",self.GetEdad())\n",
        "    print(\"\\tAntiguedad:\",self.__Antiguedad)\n",
        "    print(\"\\tTutorias:\",self.__Tutorias)\n",
        "    print(\"\\tTelefono:\",self.__Telefono)\n",
        "    print(\"\\tEspecialidad:\",self.__Especialidad)\n",
        "    print(\"\\tAtributos:\",self.__Atributos)\n",
        "    print(\"\\tAños:\",self.__Años)\n",
        "    print(\"\\tUniversidad:\",self.__Universidad)\n",
        "    print(\"\\tDepartamento:\",self.__Departamento)   \n",
        "\n",
        "\n",
        "profesional=Profesional()\n",
        "profesional.SetNombre(\"Edna\")\n",
        "profesional.SetApellido(\"Rivas Ortiz\")\n",
        "profesional.SetEdad(45)\n",
        "profesional.SetAntiguedad(30)\n",
        "profesional.SetTutorias([[\"lunes\",\"2-4 pm\"],[\"martes\",\"4-6 pm\"]])\n",
        "profesional.SetTelefono(\"312450000\")\n",
        "profesional.SetEspecialidad(\"INVESTIGADOR FORENSE\")\n",
        "profesional.SetAtributos(\"ESPECIALISTA,INVESTIGADOR\")\n",
        "profesional.SetAños(22)\n",
        "profesional.SetUniversidad(\"FET\")\n",
        "profesional.SetDepartamento(\"Huila\")\n",
        "profesional.MostrarProfesional()\n",
        "\n"
      ]
    },
    {
      "cell_type": "markdown",
      "metadata": {
        "id": "1Ep26a9_uoC9"
      },
      "source": [
        "DIAGRAMA DE CLASE"
      ]
    },
    {
      "cell_type": "markdown",
      "metadata": {
        "id": "aE_jmmUnuoDB"
      },
      "source": [
        "<img src=\"diagrama de clase.drawio.png\" alt=\"Getting started\" />"
      ]
    },
    {
      "cell_type": "markdown",
      "metadata": {
        "id": "6cYXCyZXuoDD"
      },
      "source": [
        "HAGA UN CODIGO QUE EJECUTE EL DIAFRAMA DE CLASE "
      ]
    },
    {
      "cell_type": "code",
      "execution_count": null,
      "metadata": {
        "id": "2JiOXoEGuoDD",
        "outputId": "33799b49-026d-417c-d7ae-a460742a7f26"
      },
      "outputs": [
        {
          "name": "stdout",
          "output_type": "stream",
          "text": [
            "ave: \n",
            "\tColor: MULTICOLOR\n",
            "\tPESO:  35 GRAMOS\n",
            "\tCome: SEMILLAS\n",
            "\tMoverse: VOLANDO\n",
            "\tTipo: HERBIVORO\n",
            "\tVuela: RAPIDO\n"
          ]
        }
      ],
      "source": [
        "class Animal():\n",
        "  def __init__(self):\n",
        "     self.__Color=\"\"\n",
        "     self.__Peso=\"\"\n",
        "     self.__Comer=\"\"\n",
        "     self.__Moverse=\"\"\n",
        "\n",
        "  def GetColor(self):\n",
        "    return self.__Color\n",
        "\n",
        "  def SetColor(self, color):\n",
        "    self.__Color=color\n",
        "  \n",
        "  def GetPeso(self):\n",
        "    return self.__Peso\n",
        "\n",
        "  def SetPeso(self, peso):\n",
        "    self.__Peso = peso\n",
        "\n",
        "  def GetComer(self):\n",
        "    return self.__Comer\n",
        "\n",
        "  def SetComer(self, comer):\n",
        "    self.__Comer=comer\n",
        "\n",
        "  def GetMoverse(self):\n",
        "    return self.__Moverse\n",
        "\n",
        "  def SetMoverse(self, moverse):\n",
        "    self.__Moverse=moverse\n",
        "\n",
        "class Ave(Animal):\n",
        "\n",
        "  def __init__(self):\n",
        "    self.__Tipo=\"\"\n",
        "    self.__Volar=\"\"\n",
        "\n",
        "  def GetTipo(self):\n",
        "    return self.__Tipo\n",
        "\n",
        "  def SetTipo(self, tipo):\n",
        "    self.__Tipo = tipo\n",
        "\n",
        "  def GetVolar(self):\n",
        "    return self.__Volar\n",
        "\n",
        "  def SetVolar(self, volar):\n",
        "    self.__Volar = volar\n",
        "\n",
        "\n",
        "  def MostrarAve(self):\n",
        "    print(\"ave: \")\n",
        "    print(\"\\tColor:\",self.GetColor())\n",
        "    print(\"\\tPESO:\",self.GetPeso())\n",
        "    print(\"\\tCome:\",self.GetComer())\n",
        "    print(\"\\tMoverse:\",self.GetMoverse())\n",
        "    print(\"\\tTipo:\",self.__Tipo)\n",
        "    print(\"\\tVuela:\",self.__Volar)\n",
        "\n",
        "    \n",
        "\n",
        "ave=Ave()\n",
        "ave.SetColor(\"MULTICOLOR\")\n",
        "ave.SetPeso(\" 35 GRAMOS\")\n",
        "ave.SetComer(\"SEMILLAS\")\n",
        "ave.SetMoverse(\"VOLANDO\")\n",
        "ave.SetTipo(\"HERBIVORO\")\n",
        "ave.SetVolar(\"RAPIDO\")\n",
        "ave.MostrarAve()\n"
      ]
    },
    {
      "cell_type": "code",
      "execution_count": null,
      "metadata": {
        "id": "Clz4cKOduoDF",
        "outputId": "f8be51a3-0449-43fc-d5e4-5d42c154c6fc"
      },
      "outputs": [
        {
          "name": "stdout",
          "output_type": "stream",
          "text": [
            "perro: \n",
            "\tColor: GRIS LIMON\n",
            "\tPESO:  2 LIBRAS\n",
            "\tCome: CARNESITA\n",
            "\tMoverse: CAMINANDO\n",
            "\tRaza: CHANDITA\n",
            "\tLadra: DURO\n"
          ]
        }
      ],
      "source": [
        "class Animal():\n",
        "  def __init__(self):\n",
        "     self.__Color=\"\"\n",
        "     self.__Peso=\"\"\n",
        "     self.__Comer=\"\"\n",
        "     self.__Moverse=\"\"\n",
        "\n",
        "  def GetColor(self):\n",
        "    return self.__Color\n",
        "\n",
        "  def SetColor(self, color):\n",
        "    self.__Color=color\n",
        "  \n",
        "  def GetPeso(self):\n",
        "    return self.__Peso\n",
        "\n",
        "  def SetPeso(self, peso):\n",
        "    self.__Peso = peso\n",
        "\n",
        "  def GetComer(self):\n",
        "    return self.__Comer\n",
        "\n",
        "  def SetComer(self, comer):\n",
        "    self.__Comer=comer\n",
        "\n",
        "  def GetMoverse(self):\n",
        "    return self.__Moverse\n",
        "\n",
        "  def SetMoverse(self, moverse):\n",
        "    self.__Moverse=moverse\n",
        "\n",
        "\n",
        "class Perro(Animal):\n",
        "\n",
        "  def __init__(self):\n",
        "    self.__Raza=\"\"\n",
        "    self.__Ladra=\"\"\n",
        "\n",
        "  def GetRaza(self):\n",
        "    return self.__Raza\n",
        "\n",
        "  def SetRaza(self, raza):\n",
        "    self.__Raza = raza\n",
        "\n",
        "  def GetLadra(self):\n",
        "    return self.__Ladra\n",
        "\n",
        "  def SetLadra(self, ladra):\n",
        "    self.__Ladra = ladra\n",
        "\n",
        "  def MostrarPerro(self):\n",
        "    print(\"perro: \")\n",
        "    print(\"\\tColor:\",self.GetColor())\n",
        "    print(\"\\tPESO:\",self.GetPeso())\n",
        "    print(\"\\tCome:\",self.GetComer())\n",
        "    print(\"\\tMoverse:\",self.GetMoverse())\n",
        "    print(\"\\tRaza:\",self.__Raza)\n",
        "    print(\"\\tLadra:\",self.__Ladra)\n",
        "\n",
        "\n",
        "\n",
        "perro= Perro()\n",
        "perro.SetColor(\"GRIS LIMON\")\n",
        "perro.SetPeso(\" 2 LIBRAS\")\n",
        "perro.SetComer(\"CARNESITA\")\n",
        "perro.SetMoverse(\"CAMINANDO\")\n",
        "perro.SetRaza(\"CHANDITA\")\n",
        "perro.SetLadra(\"DURO\")\n",
        "perro.MostrarPerro()"
      ]
    },
    {
      "cell_type": "markdown",
      "metadata": {
        "id": "rAtSnyhSuoDG"
      },
      "source": [
        "POLIFORMISMO"
      ]
    },
    {
      "cell_type": "code",
      "execution_count": null,
      "metadata": {
        "id": "JdABmVjPuoDH",
        "outputId": "2e699955-4ae2-4d6f-e2dd-5db34b5cdf20"
      },
      "outputs": [
        {
          "name": "stdout",
          "output_type": "stream",
          "text": [
            "enciende bonito y con elegancia\n",
            "enciende rapido y eficiente\n",
            "ni idea de como encieda, pero es bueno \n"
          ]
        }
      ],
      "source": [
        "class Samsung():\n",
        "    def encendido(self):\n",
        "        print(\"enciende bonito y con elegancia\")\n",
        "    \n",
        "class Iphone():\n",
        "    def encendido(self):\n",
        "        print(\"enciende rapido y eficiente\")\n",
        "\n",
        "class Motorola():\n",
        "    def encendido(self):\n",
        "        print(\"ni idea de como encieda, pero es bueno \")\n",
        "\n",
        "def prender(telefono):\n",
        "    telefono.encendido()\n",
        "\n",
        "prender(Samsung())\n",
        "prender(Iphone())\n",
        "prender(Motorola())\n"
      ]
    },
    {
      "cell_type": "code",
      "execution_count": null,
      "metadata": {
        "id": "yD4pXHUxuoDH",
        "outputId": "5cfc4bce-eaba-4687-c320-7d27e5418db0"
      },
      "outputs": [
        {
          "name": "stdout",
          "output_type": "stream",
          "text": [
            "vuelan bajo pero con mas velocidad que las moscas\n"
          ]
        }
      ],
      "source": [
        "class Mosquito():\n",
        "    def volar(self):\n",
        "        print(\"vuela lento y bajo\")\n",
        "class Mosca():\n",
        "    def volar(self):\n",
        "        print(\"vuelan bajo pero con mas velocidad que las moscas\")\n",
        "class Avion():\n",
        "    def volar(self):\n",
        "        print(\"vuela demaciado alto y con gran velovidad\")\n",
        "\n",
        "def flotar(cielo):\n",
        "    cielo.volar()\n",
        "\n",
        "#lotar(Mosquito())\n",
        "flotar(Mosca())\n",
        "#flotar(Avion())"
      ]
    }
  ],
  "metadata": {
    "kernelspec": {
      "display_name": "Python 3.10.6 64-bit",
      "language": "python",
      "name": "python3"
    },
    "language_info": {
      "codemirror_mode": {
        "name": "ipython",
        "version": 3
      },
      "file_extension": ".py",
      "mimetype": "text/x-python",
      "name": "python",
      "nbconvert_exporter": "python",
      "pygments_lexer": "ipython3",
      "version": "3.10.6"
    },
    "orig_nbformat": 4,
    "vscode": {
      "interpreter": {
        "hash": "213524bb45a1aeaf737b1d8c77d7b8db5d425938d9dffc5f4bc6fe6dd3324700"
      }
    },
    "colab": {
      "provenance": []
    }
  },
  "nbformat": 4,
  "nbformat_minor": 0
}